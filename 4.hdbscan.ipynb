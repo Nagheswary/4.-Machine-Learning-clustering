{
 "cells": [
  {
   "cell_type": "code",
   "execution_count": 1,
   "id": "bd82fa38",
   "metadata": {},
   "outputs": [],
   "source": [
    "import pandas as pd\n",
    "dataset=pd.read_csv(\"Mall_Customers.csv\")\n",
    "x=dataset.iloc[:,[3,4]].values\n"
   ]
  },
  {
   "cell_type": "code",
   "execution_count": 2,
   "id": "46667a5f",
   "metadata": {},
   "outputs": [],
   "source": [
    "from sklearn.preprocessing import StandardScaler\n",
    "scaler = StandardScaler()\n",
    "x_scaled = scaler.fit_transform(x)"
   ]
  },
  {
   "cell_type": "code",
   "execution_count": 4,
   "id": "ee9bcd00",
   "metadata": {
    "scrolled": true
   },
   "outputs": [],
   "source": [
    "#!pip install hdbscan\n",
    "#!pip install --upgrade scipy\n",
    "!pip install --upgrade scipy>=1.8.0"
   ]
  },
  {
   "cell_type": "code",
   "execution_count": 6,
   "id": "2f2ec734",
   "metadata": {
    "scrolled": true
   },
   "outputs": [
    {
     "ename": "ImportError",
     "evalue": "cannot import name 'coo_array' from 'scipy.sparse' (C:\\Users\\DELL\\anaconda3\\envs\\aiml\\lib\\site-packages\\scipy\\sparse\\__init__.py)",
     "output_type": "error",
     "traceback": [
      "\u001b[1;31m---------------------------------------------------------------------------\u001b[0m",
      "\u001b[1;31mImportError\u001b[0m                               Traceback (most recent call last)",
      "\u001b[1;32m~\\AppData\\Local\\Temp\\ipykernel_8892\\2596191513.py\u001b[0m in \u001b[0;36m<module>\u001b[1;34m\u001b[0m\n\u001b[1;32m----> 1\u001b[1;33m \u001b[1;32mimport\u001b[0m \u001b[0mhdbscan\u001b[0m\u001b[1;33m\u001b[0m\u001b[1;33m\u001b[0m\u001b[0m\n\u001b[0m\u001b[0;32m      2\u001b[0m cluster = hdbscan.HDBSCAN(min_cluster_size=5,\n\u001b[0;32m      3\u001b[0m                             \u001b[0mmin_samples\u001b[0m\u001b[1;33m=\u001b[0m\u001b[1;36m5\u001b[0m\u001b[1;33m,\u001b[0m\u001b[1;33m\u001b[0m\u001b[1;33m\u001b[0m\u001b[0m\n\u001b[0;32m      4\u001b[0m                             \u001b[0mcluster_selection_method\u001b[0m\u001b[1;33m=\u001b[0m\u001b[1;34m'eom'\u001b[0m\u001b[1;33m,\u001b[0m\u001b[1;33m\u001b[0m\u001b[1;33m\u001b[0m\u001b[0m\n\u001b[0;32m      5\u001b[0m                             \u001b[0mallow_single_cluster\u001b[0m\u001b[1;33m=\u001b[0m\u001b[1;32mTrue\u001b[0m\u001b[1;33m,\u001b[0m\u001b[1;33m\u001b[0m\u001b[1;33m\u001b[0m\u001b[0m\n",
      "\u001b[1;32m~\\anaconda3\\envs\\aiml\\lib\\site-packages\\hdbscan\\__init__.py\u001b[0m in \u001b[0;36m<module>\u001b[1;34m\u001b[0m\n\u001b[1;32m----> 1\u001b[1;33m \u001b[1;32mfrom\u001b[0m \u001b[1;33m.\u001b[0m\u001b[0mhdbscan_\u001b[0m \u001b[1;32mimport\u001b[0m \u001b[0mHDBSCAN\u001b[0m\u001b[1;33m,\u001b[0m \u001b[0mhdbscan\u001b[0m\u001b[1;33m\u001b[0m\u001b[1;33m\u001b[0m\u001b[0m\n\u001b[0m\u001b[0;32m      2\u001b[0m \u001b[1;32mfrom\u001b[0m \u001b[1;33m.\u001b[0m\u001b[0mrobust_single_linkage_\u001b[0m \u001b[1;32mimport\u001b[0m \u001b[0mRobustSingleLinkage\u001b[0m\u001b[1;33m,\u001b[0m \u001b[0mrobust_single_linkage\u001b[0m\u001b[1;33m\u001b[0m\u001b[1;33m\u001b[0m\u001b[0m\n\u001b[0;32m      3\u001b[0m \u001b[1;32mfrom\u001b[0m \u001b[1;33m.\u001b[0m\u001b[0mvalidity\u001b[0m \u001b[1;32mimport\u001b[0m \u001b[0mvalidity_index\u001b[0m\u001b[1;33m\u001b[0m\u001b[1;33m\u001b[0m\u001b[0m\n\u001b[0;32m      4\u001b[0m from .prediction import (approximate_predict,\n\u001b[0;32m      5\u001b[0m                          \u001b[0mmembership_vector\u001b[0m\u001b[1;33m,\u001b[0m\u001b[1;33m\u001b[0m\u001b[1;33m\u001b[0m\u001b[0m\n",
      "\u001b[1;32m~\\anaconda3\\envs\\aiml\\lib\\site-packages\\hdbscan\\hdbscan_.py\u001b[0m in \u001b[0;36m<module>\u001b[1;34m\u001b[0m\n\u001b[0;32m     37\u001b[0m \u001b[1;32mfrom\u001b[0m \u001b[1;33m.\u001b[0m\u001b[0mplots\u001b[0m \u001b[1;32mimport\u001b[0m \u001b[0mCondensedTree\u001b[0m\u001b[1;33m,\u001b[0m \u001b[0mSingleLinkageTree\u001b[0m\u001b[1;33m,\u001b[0m \u001b[0mMinimumSpanningTree\u001b[0m\u001b[1;33m\u001b[0m\u001b[1;33m\u001b[0m\u001b[0m\n\u001b[0;32m     38\u001b[0m \u001b[1;32mfrom\u001b[0m \u001b[1;33m.\u001b[0m\u001b[0mprediction\u001b[0m \u001b[1;32mimport\u001b[0m \u001b[0mPredictionData\u001b[0m\u001b[1;33m\u001b[0m\u001b[1;33m\u001b[0m\u001b[0m\n\u001b[1;32m---> 39\u001b[1;33m \u001b[1;32mfrom\u001b[0m \u001b[1;33m.\u001b[0m\u001b[0mbranches\u001b[0m \u001b[1;32mimport\u001b[0m \u001b[0mBranchDetectionData\u001b[0m\u001b[1;33m\u001b[0m\u001b[1;33m\u001b[0m\u001b[0m\n\u001b[0m\u001b[0;32m     40\u001b[0m \u001b[1;33m\u001b[0m\u001b[0m\n\u001b[0;32m     41\u001b[0m \u001b[0mKDTREE_VALID_METRICS\u001b[0m \u001b[1;33m=\u001b[0m \u001b[1;33m[\u001b[0m\u001b[1;34m\"euclidean\"\u001b[0m\u001b[1;33m,\u001b[0m \u001b[1;34m\"l2\"\u001b[0m\u001b[1;33m,\u001b[0m \u001b[1;34m\"minkowski\"\u001b[0m\u001b[1;33m,\u001b[0m \u001b[1;34m\"p\"\u001b[0m\u001b[1;33m,\u001b[0m \u001b[1;34m\"manhattan\"\u001b[0m\u001b[1;33m,\u001b[0m \u001b[1;34m\"cityblock\"\u001b[0m\u001b[1;33m,\u001b[0m \u001b[1;34m\"l1\"\u001b[0m\u001b[1;33m,\u001b[0m \u001b[1;34m\"chebyshev\"\u001b[0m\u001b[1;33m,\u001b[0m \u001b[1;34m\"infinity\"\u001b[0m\u001b[1;33m]\u001b[0m\u001b[1;33m\u001b[0m\u001b[1;33m\u001b[0m\u001b[0m\n",
      "\u001b[1;32m~\\anaconda3\\envs\\aiml\\lib\\site-packages\\hdbscan\\branches.py\u001b[0m in \u001b[0;36m<module>\u001b[1;34m\u001b[0m\n\u001b[0;32m      4\u001b[0m \u001b[1;32mfrom\u001b[0m \u001b[0msklearn\u001b[0m\u001b[1;33m.\u001b[0m\u001b[0mbase\u001b[0m \u001b[1;32mimport\u001b[0m \u001b[0mBaseEstimator\u001b[0m\u001b[1;33m,\u001b[0m \u001b[0mClusterMixin\u001b[0m\u001b[1;33m\u001b[0m\u001b[1;33m\u001b[0m\u001b[0m\n\u001b[0;32m      5\u001b[0m \u001b[1;32mfrom\u001b[0m \u001b[0msklearn\u001b[0m\u001b[1;33m.\u001b[0m\u001b[0mneighbors\u001b[0m \u001b[1;32mimport\u001b[0m \u001b[0mKDTree\u001b[0m\u001b[1;33m,\u001b[0m \u001b[0mBallTree\u001b[0m\u001b[1;33m\u001b[0m\u001b[1;33m\u001b[0m\u001b[0m\n\u001b[1;32m----> 6\u001b[1;33m \u001b[1;32mfrom\u001b[0m \u001b[0mscipy\u001b[0m\u001b[1;33m.\u001b[0m\u001b[0msparse\u001b[0m \u001b[1;32mimport\u001b[0m \u001b[0mcoo_array\u001b[0m\u001b[1;33m\u001b[0m\u001b[1;33m\u001b[0m\u001b[0m\n\u001b[0m\u001b[0;32m      7\u001b[0m \u001b[1;32mfrom\u001b[0m \u001b[0mscipy\u001b[0m\u001b[1;33m.\u001b[0m\u001b[0msparse\u001b[0m\u001b[1;33m.\u001b[0m\u001b[0mcsgraph\u001b[0m \u001b[1;32mimport\u001b[0m \u001b[0mminimum_spanning_tree\u001b[0m\u001b[1;33m\u001b[0m\u001b[1;33m\u001b[0m\u001b[0m\n\u001b[0;32m      8\u001b[0m \u001b[1;32mfrom\u001b[0m \u001b[0mjoblib\u001b[0m \u001b[1;32mimport\u001b[0m \u001b[0mMemory\u001b[0m\u001b[1;33m\u001b[0m\u001b[1;33m\u001b[0m\u001b[0m\n",
      "\u001b[1;31mImportError\u001b[0m: cannot import name 'coo_array' from 'scipy.sparse' (C:\\Users\\DELL\\anaconda3\\envs\\aiml\\lib\\site-packages\\scipy\\sparse\\__init__.py)"
     ]
    }
   ],
   "source": [
    "import hdbscan\n",
    "cluster = hdbscan.HDBSCAN(min_cluster_size=5,\n",
    "                            min_samples=5,\n",
    "                            cluster_selection_method='eom',\n",
    "                            allow_single_cluster=True,\n",
    "                            algorithm='best',\n",
    "                            leaf_size=30)\n",
    "y=cluster.fit_predict(x_scaled)"
   ]
  },
  {
   "cell_type": "code",
   "execution_count": null,
   "id": "8d091060",
   "metadata": {},
   "outputs": [],
   "source": [
    "supervised=pd.DataFrame(dataset)\n",
    "supervised['Cluster_group']=y\n",
    "supervised"
   ]
  },
  {
   "cell_type": "code",
   "execution_count": null,
   "id": "57ed4c46",
   "metadata": {},
   "outputs": [],
   "source": [
    "import seaborn as sns\n",
    "facet=sns.lmplot(data=supervised,x=supervised.columns[3],y=supervised.columns[4],hue=supervised.columns[5],\n",
    "                 fit_reg=False,legend_out=True,legend=True)"
   ]
  },
  {
   "cell_type": "code",
   "execution_count": null,
   "id": "8a75811d",
   "metadata": {},
   "outputs": [],
   "source": []
  }
 ],
 "metadata": {
  "kernelspec": {
   "display_name": "Python 3 (ipykernel)",
   "language": "python",
   "name": "python3"
  },
  "language_info": {
   "codemirror_mode": {
    "name": "ipython",
    "version": 3
   },
   "file_extension": ".py",
   "mimetype": "text/x-python",
   "name": "python",
   "nbconvert_exporter": "python",
   "pygments_lexer": "ipython3",
   "version": "3.7.1"
  }
 },
 "nbformat": 4,
 "nbformat_minor": 5
}
